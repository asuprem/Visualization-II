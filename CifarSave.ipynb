{
 "cells": [
  {
   "cell_type": "markdown",
   "metadata": {},
   "source": [
    "# <span style=\"color:red\"> WARNING: DO NOT RUN TWICE WITH DATA IN FOLDERS - THIS USES RANDOM STRING SUBFIXES</span>"
   ]
  },
  {
   "cell_type": "code",
   "execution_count": 6,
   "metadata": {
    "collapsed": false
   },
   "outputs": [],
   "source": [
    "from keras.datasets import cifar10\n",
    "import gc\n",
    "from PIL import Image\n",
    "import random\n",
    "import numpy as np\n",
    "import os\n",
    "import string\n",
    "from tqdm import tqdm"
   ]
  },
  {
   "cell_type": "code",
   "execution_count": 7,
   "metadata": {
    "collapsed": false
   },
   "outputs": [],
   "source": [
    "(x_train, y_train), (x_test, y_test) = cifar10.load_data()\n",
    "nameLst = ['airplane','automobile','bird','cat','deer','dog','frog','horse','ship','truck']"
   ]
  },
  {
   "cell_type": "markdown",
   "metadata": {},
   "source": [
    "# Training data saver"
   ]
  },
  {
   "cell_type": "code",
   "execution_count": 8,
   "metadata": {
    "collapsed": false
   },
   "outputs": [],
   "source": [
    "model_type = os.path.join('cifar', 'data')\n",
    "model_train = os.path.join(model_type, 'train')\n",
    "model_test = os.path.join(model_type, 'test')\n",
    "model_val = os.path.join(model_type, 'validation')\n",
    "for i in nameLst:\n",
    "    if not os.path.exists(os.path.join(model_train, i)):\n",
    "        os.makedirs(os.path.join(model_train, i))\n",
    "    if not os.path.exists(os.path.join(model_test, i)):\n",
    "        os.makedirs(os.path.join(model_test, i))\n",
    "    if not os.path.exists(os.path.join(model_val, i)):\n",
    "        os.makedirs(os.path.join(model_val, i))"
   ]
  },
  {
   "cell_type": "markdown",
   "metadata": {},
   "source": [
    "# Test data saver"
   ]
  },
  {
   "cell_type": "code",
   "execution_count": 9,
   "metadata": {
    "collapsed": false
   },
   "outputs": [
    {
     "name": "stderr",
     "output_type": "stream",
     "text": [
      "100%|██████████| 50000/50000 [00:24<00:00, 2049.93it/s]\n"
     ]
    }
   ],
   "source": [
    "for i in tqdm(range(50000)):\n",
    "    name = os.path.join(model_train, nameLst[int(y_train[i])])\n",
    "    fname = nameLst[int(y_train[i])]\n",
    "    fname += ''.join(random.SystemRandom().choice(string.ascii_lowercase + string.digits) for _ in range(10))\n",
    "    fname += '.png'\n",
    "    #print os.path.join(name, fname)\n",
    "    img = Image.fromarray(x_train[i])\n",
    "    img.save(os.path.join(name, fname))"
   ]
  },
  {
   "cell_type": "code",
   "execution_count": 10,
   "metadata": {
    "collapsed": false
   },
   "outputs": [
    {
     "name": "stderr",
     "output_type": "stream",
     "text": [
      "100%|██████████| 10000/10000 [00:04<00:00, 2027.56it/s]\n"
     ]
    }
   ],
   "source": [
    "for i in tqdm(range(10000)):\n",
    "    name = os.path.join(model_test, nameLst[int(y_test[i])])\n",
    "    fname = nameLst[int(y_test[i])]\n",
    "    fname += ''.join(random.SystemRandom().choice(string.ascii_lowercase + string.digits) for _ in range(10))\n",
    "    fname += '.png'\n",
    "    #print os.path.join(name, fname)\n",
    "    img = Image.fromarray(x_test[i])\n",
    "    img.save(os.path.join(name, fname))"
   ]
  },
  {
   "cell_type": "code",
   "execution_count": null,
   "metadata": {
    "collapsed": true
   },
   "outputs": [],
   "source": [
    "idx"
   ]
  },
  {
   "cell_type": "code",
   "execution_count": null,
   "metadata": {
    "collapsed": true
   },
   "outputs": [],
   "source": []
  }
 ],
 "metadata": {
  "anaconda-cloud": {},
  "kernelspec": {
   "display_name": "Python [conda root]",
   "language": "python",
   "name": "conda-root-py"
  },
  "language_info": {
   "codemirror_mode": {
    "name": "ipython",
    "version": 2
   },
   "file_extension": ".py",
   "mimetype": "text/x-python",
   "name": "python",
   "nbconvert_exporter": "python",
   "pygments_lexer": "ipython2",
   "version": "2.7.12"
  }
 },
 "nbformat": 4,
 "nbformat_minor": 1
}
