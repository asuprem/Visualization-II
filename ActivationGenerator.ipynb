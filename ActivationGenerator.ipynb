{
 "cells": [
  {
   "cell_type": "code",
   "execution_count": 2,
   "metadata": {
    "collapsed": false
   },
   "outputs": [
    {
     "name": "stderr",
     "output_type": "stream",
     "text": [
      "/home/icarus/anaconda2/lib/python2.7/site-packages/matplotlib/font_manager.py:273: UserWarning: Matplotlib is building the font cache using fc-list. This may take a moment.\n",
      "  warnings.warn('Matplotlib is building the font cache using fc-list. This may take a moment.')\n"
     ]
    }
   ],
   "source": [
    "import os, pdb, json, re, keras, vis_utils\n",
    "from keras.preprocessing.image import ImageDataGenerator\n",
    "from keras.callbacks import TensorBoard, ModelCheckpoint\n",
    "from keras.models import Sequential, load_model, Model, model_from_json\n",
    "from keras.layers import Dense, Flatten, Dropout, Activation\n",
    "from keras.layers import Conv2D, MaxPooling2D, Input, InputLayer\n",
    "from keras.utils import np_utils, generic_utils\n",
    "from keras import backend as K\n",
    "from PIL import Image\n",
    "import numpy as np\n",
    "from tqdm import tnrange, tqdm_notebook\n",
    "import gc\n",
    "import time\n",
    "import tensorflow as tf\n",
    "sess = tf.Session()\n",
    "import matplotlib.pyplot as plt\n",
    "%matplotlib inline\n",
    "K.set_session(sess)"
   ]
  },
  {
   "cell_type": "code",
   "execution_count": 3,
   "metadata": {
    "collapsed": true
   },
   "outputs": [],
   "source": [
    "model_json = vis_utils.json_load('models.json')"
   ]
  },
  {
   "cell_type": "code",
   "execution_count": 4,
   "metadata": {
    "collapsed": true
   },
   "outputs": [],
   "source": [
    "model_type = 'cifar'\n",
    "top_level= [_dir for _dir in os.listdir(model_type) if not _dir.startswith('.')]\n",
    "dir_paths = {entry:os.path.join(model_type, entry) for entry in top_level}\n",
    "jsons = os.listdir(dir_paths['jsons'])\n",
    "model_dirs = [os.path.splitext(_item)[0] for _item in jsons]\n",
    "train_data_dir = 'data/' + model_type + '/train'\n",
    "test_data_dir = 'data/' + model_type + '/test'\n",
    "class_name = {i:str(model_json[model_type]['labels'][i]) for i in range(len(model_json[model_type]['labels']))}"
   ]
  },
  {
   "cell_type": "code",
   "execution_count": 5,
   "metadata": {
    "collapsed": false
   },
   "outputs": [
    {
     "data": {
      "text/plain": [
       "10"
      ]
     },
     "execution_count": 5,
     "metadata": {},
     "output_type": "execute_result"
    }
   ],
   "source": [
    "len(class_name)"
   ]
  },
  {
   "cell_type": "code",
   "execution_count": 18,
   "metadata": {
    "collapsed": false
   },
   "outputs": [
    {
     "name": "stdout",
     "output_type": "stream",
     "text": [
      "\n"
     ]
    }
   ],
   "source": [
    "#for idx in tqdm_notebook(range(len(jsons)), desc=\"Models\"):\n",
    "for idx in tqdm_notebook(range(1,6), desc=\"Models\"):\n",
    "#idx = 0\n",
    "#print jsons[idx]\n",
    "    dir_list = vis_utils.dir_list_returner(dir_paths, ['weights','activations','supplement'], model_dirs[idx])\n",
    "    #Set up supplemental parameters\n",
    "    compile_params = vis_utils.json_load(os.path.join(dir_list['supplement'], 'compile.json'))\n",
    "    # Loading the Model file\n",
    "    #with open(os.path.join(dir_paths['jsons'],jsons[idx]), 'r') as model_file:\n",
    "    #    model = model_from_json(model_file.read())\n",
    "    #compile_params = vis_utils.json_load(os.path.join(dir_list['supplement'], 'compile.json'))\n",
    "    #model.compile(loss = compile_params['loss'], optimizer = compile_params['optimizer'], metrics=compile_params['metrics'])\n",
    "    weight_files = [_file for _file in os.listdir(dir_list['weights']) if _file.startswith('weights')]\n",
    "    weight_files.sort()\n",
    "    for wt_idx in tqdm_notebook([14,9,4,0], desc = jsons[idx], leave=False):\n",
    "    #wt_idx = 14\n",
    "        weight_folder = os.path.join(dir_list['activations'], 'epoch'+str(wt_idx))\n",
    "        make = os.makedirs(weight_folder) if not os.path.exists(weight_folder) else None\n",
    "        model=load_model(os.path.join(dir_list['weights'], weight_files[wt_idx]))\n",
    "        model.trainable = False\n",
    "        model.compile(loss = compile_params['loss'], optimizer = compile_params['optimizer'], metrics=compile_params['metrics'])\n",
    "        conv_layers = vis_utils.get_conv_layers(model)\n",
    "        layer_activations = K.function([model.layers[0].input, K.learning_phase()],\n",
    "                                          [layer.output for layer in model.layers if layer.name.startswith('conv')])\n",
    "        for idx,_class in enumerate(tqdm_notebook(class_name, desc=\"Class\", leave=False)):\n",
    "            #_idx = 0\n",
    "            #_class = class_name[_idx]\n",
    "            class_target = os.path.join(weight_folder,class_name[_class])\n",
    "\n",
    "            make = os.makedirs(class_target) if not os.path.exists(class_target) else None\n",
    "            imgs = os.listdir(os.path.join(test_data_dir, class_name[_class]))\n",
    "            for _image in tqdm_notebook(imgs, desc=\"Image\", leave=False):\n",
    "            #_image = imgs[32]\n",
    "                ker_img= np.array([np.array(Image.open(os.path.join(test_data_dir, class_name[_class]) + '/'+_image)).astype(\"float32\")/255])\n",
    "                target = os.path.join(class_target, os.path.splitext(_image)[0])\n",
    "                #res=model.predict(ker_img)\n",
    "                #soft_res = np.exp(res)/np.sum(np.exp(res))\n",
    "                #if int(np.where(soft_res == np.max(soft_res))[1]) != idx <---- if incorrect\n",
    "                act = layer_activations([ker_img, 0])\n",
    "                act_means = [np.mean(_act, axis=(0,1,2)) for _act in act]\n",
    "                indices = [np.argsort(_means) for _means in act_means]\n",
    "                activation_dict = {layer:{'sorted':indices[idx].tolist(), 'activations':act_means[idx].tolist()} for idx, layer in enumerate(conv_layers)}\n",
    "                with open(target, 'w') as _compile:\n",
    "                        json.dump(activation_dict, _compile)"
   ]
  },
  {
   "cell_type": "code",
   "execution_count": 8,
   "metadata": {
    "collapsed": false
   },
   "outputs": [
    {
     "data": {
      "text/plain": [
       "<keras.engine.training.Model at 0x7f2789945b10>"
      ]
     },
     "execution_count": 8,
     "metadata": {},
     "output_type": "execute_result"
    }
   ],
   "source": [
    "load_model(os.path.join(dir_list['weights'], weight_files[wt_idx]))"
   ]
  },
  {
   "cell_type": "code",
   "execution_count": 12,
   "metadata": {
    "collapsed": false
   },
   "outputs": [
    {
     "data": {
      "text/plain": [
       "{0: 'airplane',\n",
       " 1: 'automobile',\n",
       " 2: 'bird',\n",
       " 3: 'cat',\n",
       " 4: 'deer',\n",
       " 5: 'dog',\n",
       " 6: 'frog',\n",
       " 7: 'horse',\n",
       " 8: 'ship',\n",
       " 9: 'truck'}"
      ]
     },
     "execution_count": 12,
     "metadata": {},
     "output_type": "execute_result"
    }
   ],
   "source": [
    "class_name"
   ]
  },
  {
   "cell_type": "code",
   "execution_count": null,
   "metadata": {
    "collapsed": true
   },
   "outputs": [],
   "source": []
  }
 ],
 "metadata": {
  "kernelspec": {
   "display_name": "Python [conda root]",
   "language": "python",
   "name": "conda-root-py"
  },
  "language_info": {
   "codemirror_mode": {
    "name": "ipython",
    "version": 2
   },
   "file_extension": ".py",
   "mimetype": "text/x-python",
   "name": "python",
   "nbconvert_exporter": "python",
   "pygments_lexer": "ipython2",
   "version": "2.7.12"
  },
  "widgets": {
   "state": {
    "0105d7cc32f2437e887ba664a7ca23fc": {
     "views": [
      {
       "cell_index": 4
      }
     ]
    },
    "0608d1cb2d794a879874c3f1b1724a05": {
     "views": [
      {
       "cell_index": 4
      }
     ]
    },
    "0825eeb1b1194e9299aa3c44ec165006": {
     "views": [
      {
       "cell_index": 4
      }
     ]
    },
    "0a42a18cd8664ce1ad740965d386f946": {
     "views": [
      {
       "cell_index": 4
      }
     ]
    },
    "0b64dbc09b7e4079b6642ed2c4e50e6c": {
     "views": [
      {
       "cell_index": 4
      }
     ]
    },
    "0c062e4eb4474214b81052b7ca25557f": {
     "views": [
      {
       "cell_index": 4
      }
     ]
    },
    "0f4d52f7433b45b38b6c5e8958b2834f": {
     "views": [
      {
       "cell_index": 5
      }
     ]
    },
    "129d8e1f0d3b48a69374ca9b5eeb274c": {
     "views": [
      {
       "cell_index": 4
      }
     ]
    },
    "1315e0d493f44e9eab45adbb854ae3d0": {
     "views": [
      {
       "cell_index": 4
      }
     ]
    },
    "133a881ea5fa4022be7ae0e5fbe59dca": {
     "views": [
      {
       "cell_index": 4
      }
     ]
    },
    "13e2e57d56ae4dc2a0431cde56da3011": {
     "views": [
      {
       "cell_index": 4
      }
     ]
    },
    "14eb5d99348d4d94a164882a0b9a1c58": {
     "views": [
      {
       "cell_index": 4
      }
     ]
    },
    "151303a40e644f8f9fe7e0a74e21df96": {
     "views": [
      {
       "cell_index": 4
      }
     ]
    },
    "1571d080d1334228a3aedb948817012b": {
     "views": [
      {
       "cell_index": 4
      }
     ]
    },
    "18487020b43141adb8da6d7856dee622": {
     "views": [
      {
       "cell_index": 4
      }
     ]
    },
    "18ddd5fbc1264f88ba56998c2a504052": {
     "views": [
      {
       "cell_index": 4
      }
     ]
    },
    "199bef4b2f534d6b9492421bbb297062": {
     "views": [
      {
       "cell_index": 4
      }
     ]
    },
    "1b22703f869447039ef0c88b3a82c6c6": {
     "views": [
      {
       "cell_index": 4
      }
     ]
    },
    "1d057076b92048b695c7ef4204977eb7": {
     "views": [
      {
       "cell_index": 4
      }
     ]
    },
    "1d94c10f944746dca7d09e3057366f8c": {
     "views": [
      {
       "cell_index": 4
      }
     ]
    },
    "1ede8ba7d802465db7840057f249ff4d": {
     "views": [
      {
       "cell_index": 4
      }
     ]
    },
    "1ee8a6d1280842a7a60ea98ed839f2ec": {
     "views": [
      {
       "cell_index": 4
      }
     ]
    },
    "1f4476f6554f4f1b845fc55263dd29e0": {
     "views": [
      {
       "cell_index": 4
      }
     ]
    },
    "1fd44166ea2247c6a1e730b0d407f001": {
     "views": [
      {
       "cell_index": 4
      }
     ]
    },
    "2004abe22f0e45068cac86265a23acb4": {
     "views": [
      {
       "cell_index": 4
      }
     ]
    },
    "227085e151944272a55ce7820147f36c": {
     "views": [
      {
       "cell_index": 4
      }
     ]
    },
    "231379f19e85436eb45d2719590f8da0": {
     "views": [
      {
       "cell_index": 4
      }
     ]
    },
    "2352157db4c84f40b5601fc0c9da0eca": {
     "views": [
      {
       "cell_index": 4
      }
     ]
    },
    "23ec19868ebd41578a86715838eaadfb": {
     "views": [
      {
       "cell_index": 4
      }
     ]
    },
    "255784f5e91243849116b2c25fa81e4d": {
     "views": [
      {
       "cell_index": 4
      }
     ]
    },
    "25e1076e287d4debabc19c3a2cbdd810": {
     "views": [
      {
       "cell_index": 5
      }
     ]
    },
    "2635023f165b40fd9e5c220637aade07": {
     "views": [
      {
       "cell_index": 4
      }
     ]
    },
    "26f7567634924c4aa9fcf8bf3bef8132": {
     "views": [
      {
       "cell_index": 4
      }
     ]
    },
    "29a2d30c1f63408e84ba5d02a56688e0": {
     "views": [
      {
       "cell_index": 4
      }
     ]
    },
    "29c9876c0f0e4fa4a4582ed66ed38cd7": {
     "views": [
      {
       "cell_index": 4
      }
     ]
    },
    "29cf59f068fe472d94d19329d030099d": {
     "views": [
      {
       "cell_index": 4
      }
     ]
    },
    "2b5d502ede9c458796657f6348374372": {
     "views": [
      {
       "cell_index": 4
      }
     ]
    },
    "2b8e0ccfffb24d1b8dfb951b7aa0c2f5": {
     "views": [
      {
       "cell_index": 4
      }
     ]
    },
    "2fa607cd02be4d678df9572314586c5d": {
     "views": [
      {
       "cell_index": 4
      }
     ]
    },
    "2fe0a40f9d59480f918901725152a514": {
     "views": [
      {
       "cell_index": 4
      }
     ]
    },
    "301bbee9bae64b4789b79133385ab8cf": {
     "views": [
      {
       "cell_index": 4
      }
     ]
    },
    "30714308458e405c96eb5ddc28db1756": {
     "views": [
      {
       "cell_index": 4
      }
     ]
    },
    "31178fa8213f40e3b0b3bb6839a05697": {
     "views": [
      {
       "cell_index": 4
      }
     ]
    },
    "32089ea13fdd4405b022e87603b3dfce": {
     "views": [
      {
       "cell_index": 4
      }
     ]
    },
    "326b9b6edfac4697b638088feeb1f676": {
     "views": [
      {
       "cell_index": 4
      }
     ]
    },
    "3444a882092442a49ec8df1abe46ed53": {
     "views": [
      {
       "cell_index": 4
      }
     ]
    },
    "34cc8592ab5a43d2b0129bb7d9a867d9": {
     "views": [
      {
       "cell_index": 4
      }
     ]
    },
    "373c55c569a64549b81435c55a875d49": {
     "views": [
      {
       "cell_index": 4
      }
     ]
    },
    "3861d8827c1b439da8dbb0f345550bd5": {
     "views": [
      {
       "cell_index": 4
      }
     ]
    },
    "38fc5ec614ed424b9a6de2a397c6cdaa": {
     "views": [
      {
       "cell_index": 4
      }
     ]
    },
    "391166dd71424880b9aee8a90c4b834f": {
     "views": [
      {
       "cell_index": 5
      }
     ]
    },
    "39e310a5875148749d82e4dcc11ee116": {
     "views": [
      {
       "cell_index": 4
      }
     ]
    },
    "3aa79cbe676f454397026610ed268618": {
     "views": [
      {
       "cell_index": 4
      }
     ]
    },
    "3aec0eda158e4738acb7450efb455732": {
     "views": [
      {
       "cell_index": 4
      }
     ]
    },
    "3b0ec2b142264f4793c8cdcdbf42fd5f": {
     "views": [
      {
       "cell_index": 4
      }
     ]
    },
    "3d393e15ba714908882949dc2ba58267": {
     "views": [
      {
       "cell_index": 4
      }
     ]
    },
    "3e9a01b714d442d28fcf00dbb099bd12": {
     "views": [
      {
       "cell_index": 4
      }
     ]
    },
    "3f00baf3e0584c2b9ef46bbdc950315e": {
     "views": [
      {
       "cell_index": 4
      }
     ]
    },
    "3f2b64a76a3748a3ac44698453dc3580": {
     "views": [
      {
       "cell_index": 4
      }
     ]
    },
    "3f65e53ec5ec4fc99132ac8780b3b96e": {
     "views": [
      {
       "cell_index": 4
      }
     ]
    },
    "3f802598a49b4470a99deaf709b9970c": {
     "views": [
      {
       "cell_index": 4
      }
     ]
    },
    "3ffedd0d58e3443a9c1a288a71e7c913": {
     "views": [
      {
       "cell_index": 4
      }
     ]
    },
    "4004350bd5f844d5830a82ec841cb29c": {
     "views": [
      {
       "cell_index": 4
      }
     ]
    },
    "40b047d1ab2d4a33bc1ee1fd0b904ec8": {
     "views": [
      {
       "cell_index": 4
      }
     ]
    },
    "40c35cacb8b140f8bb2ce827b7cd0c96": {
     "views": [
      {
       "cell_index": 4
      }
     ]
    },
    "419965fe0c3b40b188f4720c2b19aa29": {
     "views": [
      {
       "cell_index": 4
      }
     ]
    },
    "4212962f1d984459a82b37fee3350d1a": {
     "views": [
      {
       "cell_index": 4
      }
     ]
    },
    "43073a5ef5c541e194aaf2833cc44355": {
     "views": [
      {
       "cell_index": 4
      }
     ]
    },
    "44635d1cd3fa4a8d8c6d8e1a4a81c5a5": {
     "views": [
      {
       "cell_index": 4
      }
     ]
    },
    "4b288bec226f47f9a2f8c76c9a3b76f3": {
     "views": [
      {
       "cell_index": 4
      }
     ]
    },
    "4c27d65cc86149bd912f294e538b3b86": {
     "views": [
      {
       "cell_index": 4
      }
     ]
    },
    "4c2e8ac50bde40ebaf4f62c7e1bb77f2": {
     "views": [
      {
       "cell_index": 4
      }
     ]
    },
    "4c935b47d42143498d50d39c05014d4b": {
     "views": [
      {
       "cell_index": 4
      }
     ]
    },
    "4ce9df96287e488793ef38e36f8dcd41": {
     "views": [
      {
       "cell_index": 4
      }
     ]
    },
    "4e4db9bb69b746f895eaa5ed1364dee6": {
     "views": [
      {
       "cell_index": 4
      }
     ]
    },
    "4ff5cc344ee949829ba40270bb7e5f87": {
     "views": [
      {
       "cell_index": 4
      }
     ]
    },
    "51a4d1ada55541c0b720999a15f2a187": {
     "views": [
      {
       "cell_index": 4
      }
     ]
    },
    "5544191c3e5348f19ef36809103175b2": {
     "views": [
      {
       "cell_index": 4
      }
     ]
    },
    "564ecb963b704d78950258164038d4c5": {
     "views": [
      {
       "cell_index": 4
      }
     ]
    },
    "576db85e2f0d434a95383fd9e45f468e": {
     "views": [
      {
       "cell_index": 4
      }
     ]
    },
    "5889f63064fa492daca88383a1333e10": {
     "views": [
      {
       "cell_index": 4
      }
     ]
    },
    "5918920205554016b347de14eb2b400a": {
     "views": [
      {
       "cell_index": 4
      }
     ]
    },
    "5a141118de3e428f85f52278d7e88f77": {
     "views": [
      {
       "cell_index": 4
      }
     ]
    },
    "5a6b0d79f08843c8bb450a1a6df7fc9f": {
     "views": [
      {
       "cell_index": 4
      }
     ]
    },
    "5aa44d2c31594ae0babe0ebb6f9dacd1": {
     "views": [
      {
       "cell_index": 4
      }
     ]
    },
    "5cacece5654f4fe4820d786c022716f8": {
     "views": [
      {
       "cell_index": 4
      }
     ]
    },
    "5d2033e3a0014e6db50df5fa26adc647": {
     "views": [
      {
       "cell_index": 4
      }
     ]
    },
    "5e25e319d3434ae7867ccaec78a5b63a": {
     "views": [
      {
       "cell_index": 4
      }
     ]
    },
    "5f619ddd833d401ba29a3302c98d4e75": {
     "views": [
      {
       "cell_index": 4
      }
     ]
    },
    "6233ebe25ea1474c9f090330ee2e79e5": {
     "views": [
      {
       "cell_index": 4
      }
     ]
    },
    "62ec551582504e7183426f87e9c31e7c": {
     "views": [
      {
       "cell_index": 4
      }
     ]
    },
    "67a743b1af4740a3a90db3972574b277": {
     "views": [
      {
       "cell_index": 4
      }
     ]
    },
    "694f0511638c482d8221e949696babc1": {
     "views": [
      {
       "cell_index": 4
      }
     ]
    },
    "6977293940994dff99e394784db0a01a": {
     "views": [
      {
       "cell_index": 4
      }
     ]
    },
    "6ad23e878b934c738efbf92c788160d8": {
     "views": [
      {
       "cell_index": 4
      }
     ]
    },
    "6bb08ca737e84f91b94ececa8ee76df9": {
     "views": [
      {
       "cell_index": 5
      }
     ]
    },
    "6d33540d340a43289ff0eebea110cc8f": {
     "views": [
      {
       "cell_index": 5
      }
     ]
    },
    "6d71884076c7452aa26db59b00f3ace1": {
     "views": [
      {
       "cell_index": 4
      }
     ]
    },
    "6e0bd830237f459fbe2e01e7a772af10": {
     "views": [
      {
       "cell_index": 4
      }
     ]
    },
    "6e3c4328650a4e269c4d44200118eabd": {
     "views": [
      {
       "cell_index": 4
      }
     ]
    },
    "6ef7547ecee7444d86ee2140824c251e": {
     "views": [
      {
       "cell_index": 4
      }
     ]
    },
    "7115293711e7480e91f9b354956a9d59": {
     "views": [
      {
       "cell_index": 4
      }
     ]
    },
    "71acdcbd945642e7803a8b491c5cfcdb": {
     "views": [
      {
       "cell_index": 4
      }
     ]
    },
    "71d853ea58a3451db30e6a789a7de5dc": {
     "views": [
      {
       "cell_index": 5
      }
     ]
    },
    "71f2a2c187234151a72759dceec0267a": {
     "views": [
      {
       "cell_index": 4
      }
     ]
    },
    "720585c70a6141f78f456be78652cba7": {
     "views": [
      {
       "cell_index": 4
      }
     ]
    },
    "75f79e9d85fd411199bf64b7991c8ac3": {
     "views": [
      {
       "cell_index": 4
      }
     ]
    },
    "76dc999c6d7b41809b79db00c9e710c6": {
     "views": [
      {
       "cell_index": 4
      }
     ]
    },
    "772d92b80c52432eac0797cab9e1cf96": {
     "views": [
      {
       "cell_index": 4
      }
     ]
    },
    "78067bdcf67f447096ed8c9c56dde241": {
     "views": [
      {
       "cell_index": 5
      }
     ]
    },
    "797544788d334972849edfbb21be5ef2": {
     "views": [
      {
       "cell_index": 5
      }
     ]
    },
    "79e05ce113194386977723b973f10f79": {
     "views": [
      {
       "cell_index": 4
      }
     ]
    },
    "7a9263ea2c2a4ed3a9115fd637c4ee66": {
     "views": [
      {
       "cell_index": 4
      }
     ]
    },
    "7ac61e9f08e54c70931f53daf9cc217e": {
     "views": [
      {
       "cell_index": 4
      }
     ]
    },
    "7c8395b1b57549e195b460f7ea2e6393": {
     "views": [
      {
       "cell_index": 4
      }
     ]
    },
    "7d203bc7494d4baa94a578e0bd405496": {
     "views": [
      {
       "cell_index": 4
      }
     ]
    },
    "7db92518a01e49f7af03e84fc974ec27": {
     "views": [
      {
       "cell_index": 4
      }
     ]
    },
    "7e66a2f6b922460b9240ad3579c844bf": {
     "views": [
      {
       "cell_index": 5
      }
     ]
    },
    "80b25c36ec4049dfb1b014517b8bd9e1": {
     "views": [
      {
       "cell_index": 4
      }
     ]
    },
    "8254b2215d824fe3880abe65d6bc16b0": {
     "views": [
      {
       "cell_index": 4
      }
     ]
    },
    "8402425755934537b79ef3c90b23815c": {
     "views": [
      {
       "cell_index": 4
      }
     ]
    },
    "865cafd6fab6483caedb12de1d05d8a4": {
     "views": [
      {
       "cell_index": 5
      }
     ]
    },
    "86d75e0c4e184255b0d168576964b043": {
     "views": [
      {
       "cell_index": 4
      }
     ]
    },
    "88c7756c7552477c9fca5521dd0ce824": {
     "views": [
      {
       "cell_index": 4
      }
     ]
    },
    "896f2c10070b48b38d9d14ca74b47ae1": {
     "views": [
      {
       "cell_index": 4
      }
     ]
    },
    "897484b22cb944358a5442098b2fdd91": {
     "views": [
      {
       "cell_index": 4
      }
     ]
    },
    "89b9e7c6895f4fa2b95afe4deeae1921": {
     "views": [
      {
       "cell_index": 4
      }
     ]
    },
    "8a3b1d55cbbf47fea1267fb62bd8af29": {
     "views": [
      {
       "cell_index": 4
      }
     ]
    },
    "8b16ac91d5d14f56aa00c8d594fbdba9": {
     "views": [
      {
       "cell_index": 4
      }
     ]
    },
    "8b2beea9e0604ccaa98e8769f41865cd": {
     "views": [
      {
       "cell_index": 4
      }
     ]
    },
    "8ca403671b45407fa5c217dbde8b897f": {
     "views": [
      {
       "cell_index": 4
      }
     ]
    },
    "8e1c4801471f45ddb55bca0fded2f43e": {
     "views": [
      {
       "cell_index": 4
      }
     ]
    },
    "8fc61584224b4ce8b5aa018171a870b3": {
     "views": [
      {
       "cell_index": 4
      }
     ]
    },
    "92ad627a02524e0aa66065f8c775a64c": {
     "views": [
      {
       "cell_index": 4
      }
     ]
    },
    "92b17575cbff43ddb3ee1aad2046c8ed": {
     "views": [
      {
       "cell_index": 4
      }
     ]
    },
    "93917c4727ca4222a3973ec9856bca83": {
     "views": [
      {
       "cell_index": 4
      }
     ]
    },
    "93a3cdcec116495f8e6a0bf8b95ccfcc": {
     "views": [
      {
       "cell_index": 4
      }
     ]
    },
    "93a71f76e23941f5a0c61ebc4a1ddbc4": {
     "views": [
      {
       "cell_index": 4
      }
     ]
    },
    "94cffe443d104cd1a1fbe3e1010c22ae": {
     "views": [
      {
       "cell_index": 4
      }
     ]
    },
    "97ca699832004082a7bff997f7dbc8de": {
     "views": [
      {
       "cell_index": 5
      }
     ]
    },
    "990e86868e4a4034956c45e587372a94": {
     "views": [
      {
       "cell_index": 4
      }
     ]
    },
    "994663bfb174497d8a32445fca0280a9": {
     "views": [
      {
       "cell_index": 5
      }
     ]
    },
    "99cd97d7969d460dbf3451a489da6ae4": {
     "views": [
      {
       "cell_index": 4
      }
     ]
    },
    "9ad9999c0bc64f7f9fccf186b1a0af3d": {
     "views": [
      {
       "cell_index": 4
      }
     ]
    },
    "9b12051947694add80d732d00470aadc": {
     "views": [
      {
       "cell_index": 4
      }
     ]
    },
    "9bb58be579e64b3a9e8a64f25eba894f": {
     "views": [
      {
       "cell_index": 4
      }
     ]
    },
    "9bcb53be463b41a89642f4118f078445": {
     "views": [
      {
       "cell_index": 4
      }
     ]
    },
    "9e13bae998634ff2a1146812032e8d6e": {
     "views": [
      {
       "cell_index": 4
      }
     ]
    },
    "9e579d14a4fe4c41a1e76508551048fc": {
     "views": [
      {
       "cell_index": 4
      }
     ]
    },
    "9e6f5b2312a7439db2e5cb711afc4f50": {
     "views": [
      {
       "cell_index": 4
      }
     ]
    },
    "9e9795990b0340d799163286abf31133": {
     "views": [
      {
       "cell_index": 4
      }
     ]
    },
    "9eae490dbb4544638737f919232ba71c": {
     "views": [
      {
       "cell_index": 4
      }
     ]
    },
    "9ed4edfb47d940ddb8e6c26ab125b246": {
     "views": [
      {
       "cell_index": 4
      }
     ]
    },
    "9f2bae2d7e554cd3bb93975551cbca04": {
     "views": [
      {
       "cell_index": 4
      }
     ]
    },
    "a09a19bd351e4751bdd94ee85f819027": {
     "views": [
      {
       "cell_index": 4
      }
     ]
    },
    "a0b82c901f4d46efa15a37fd5004bcf1": {
     "views": [
      {
       "cell_index": 4
      }
     ]
    },
    "a14e0be63fd24f9885dd268292b5f4b9": {
     "views": [
      {
       "cell_index": 4
      }
     ]
    },
    "a2439417861e4c589cb2ba08788c09e3": {
     "views": [
      {
       "cell_index": 4
      }
     ]
    },
    "a3705e4c78c24bd191297da50a9e92e3": {
     "views": [
      {
       "cell_index": 4
      }
     ]
    },
    "a4c294c6cffb4067b8e882ebe7a547d8": {
     "views": [
      {
       "cell_index": 4
      }
     ]
    },
    "a4e3b070b39448c3b6807700579962ab": {
     "views": [
      {
       "cell_index": 4
      }
     ]
    },
    "a5a156439d5b401c865612bbc2b7af66": {
     "views": [
      {
       "cell_index": 4
      }
     ]
    },
    "a6b443a1c0b64dc581c006ad77e0af3a": {
     "views": [
      {
       "cell_index": 4
      }
     ]
    },
    "a8145780249b40c7839424765b227795": {
     "views": [
      {
       "cell_index": 4
      }
     ]
    },
    "a8320db93d3d4d439688c7cb6e526a1a": {
     "views": [
      {
       "cell_index": 4
      }
     ]
    },
    "a9785ab161b94d278aa6ee599f02e3d0": {
     "views": [
      {
       "cell_index": 4
      }
     ]
    },
    "aad5b4e517e2420590d09ee047f6f08b": {
     "views": [
      {
       "cell_index": 4
      }
     ]
    },
    "ac74765c142b4b50ad1a643eaa886e5d": {
     "views": [
      {
       "cell_index": 4
      }
     ]
    },
    "adbec85c48304bc8ad238b7aa022ed42": {
     "views": [
      {
       "cell_index": 4
      }
     ]
    },
    "b343867b55854405b5cc8172ce5447bb": {
     "views": [
      {
       "cell_index": 4
      }
     ]
    },
    "b451dbfaa2ef45aaa7e74d0035c2e9b3": {
     "views": [
      {
       "cell_index": 4
      }
     ]
    },
    "b6be39d5c6ab46f7ad0f02358ad9ce7c": {
     "views": [
      {
       "cell_index": 4
      }
     ]
    },
    "b973d64105624e608665469586a15620": {
     "views": [
      {
       "cell_index": 4
      }
     ]
    },
    "b977a178535741c9b15f866bc0192f5a": {
     "views": [
      {
       "cell_index": 4
      }
     ]
    },
    "ba72287a9d904a08aa622017c320d011": {
     "views": [
      {
       "cell_index": 4
      }
     ]
    },
    "bc1d4df0e5854dd499106e30b91012e1": {
     "views": [
      {
       "cell_index": 4
      }
     ]
    },
    "bead796b4ceb49a1ad601d850ddf6b4e": {
     "views": [
      {
       "cell_index": 4
      }
     ]
    },
    "bf58b80889094abba16db27b98a01d9e": {
     "views": [
      {
       "cell_index": 4
      }
     ]
    },
    "c1ce799c0c474d0291f90d107000c90e": {
     "views": [
      {
       "cell_index": 4
      }
     ]
    },
    "c37255563e7040fba4b1760884a5afb1": {
     "views": [
      {
       "cell_index": 4
      }
     ]
    },
    "c3fa4d11cd9744179d69122075951372": {
     "views": [
      {
       "cell_index": 5
      }
     ]
    },
    "c432e13f5de244b8a55630bdc59badd4": {
     "views": [
      {
       "cell_index": 4
      }
     ]
    },
    "c4600bc06f2d4ad18c67baa1c4777c38": {
     "views": [
      {
       "cell_index": 5
      }
     ]
    },
    "c4625240000344df9510bbf68f1445ed": {
     "views": [
      {
       "cell_index": 4
      }
     ]
    },
    "c49c4dc5ebbc48c59bc1862540b800a7": {
     "views": [
      {
       "cell_index": 4
      }
     ]
    },
    "c5195fa3763f432181006d19bdb7300c": {
     "views": [
      {
       "cell_index": 4
      }
     ]
    },
    "c8667b0a0e5d4c1c95901bc8244ed4c5": {
     "views": [
      {
       "cell_index": 4
      }
     ]
    },
    "ca5be90a40384d5f896a96ff965086e0": {
     "views": [
      {
       "cell_index": 4
      }
     ]
    },
    "ca92a058de554ee89d61448a0d0d2917": {
     "views": [
      {
       "cell_index": 4
      }
     ]
    },
    "caa3d462bc004cb5b8bf0156d6223823": {
     "views": [
      {
       "cell_index": 4
      }
     ]
    },
    "cbec61a6aff045318090629f4577dd1a": {
     "views": [
      {
       "cell_index": 4
      }
     ]
    },
    "cc816656ca654f4b974cefca70e588ac": {
     "views": [
      {
       "cell_index": 4
      }
     ]
    },
    "d081618931c44233be1eb8b2d2450590": {
     "views": [
      {
       "cell_index": 4
      }
     ]
    },
    "d143b3a002d5472cb2adb9aee2880c2c": {
     "views": [
      {
       "cell_index": 4
      }
     ]
    },
    "d21f2421ba4245cb96be1ba12e5d0263": {
     "views": [
      {
       "cell_index": 4
      }
     ]
    },
    "d25c59cdb7064fae94d910be4182fe14": {
     "views": [
      {
       "cell_index": 5
      }
     ]
    },
    "d56cdf80bb5041349422770f438536fb": {
     "views": [
      {
       "cell_index": 4
      }
     ]
    },
    "d5c2fe10a325429490c92edd89a43b42": {
     "views": [
      {
       "cell_index": 4
      }
     ]
    },
    "d676d4ea88dd4a93aa2921de3f841376": {
     "views": [
      {
       "cell_index": 5
      }
     ]
    },
    "d69ac169547b429ab433a25cfcafd23b": {
     "views": [
      {
       "cell_index": 4
      }
     ]
    },
    "d7ccdc25fb9b411286be71550cdc6ec2": {
     "views": [
      {
       "cell_index": 4
      }
     ]
    },
    "d8656ef2035f4e1ab82e1c651279c5c7": {
     "views": [
      {
       "cell_index": 4
      }
     ]
    },
    "d98c602fd2eb49cebde62189facf0af0": {
     "views": [
      {
       "cell_index": 4
      }
     ]
    },
    "dc82dec91e9b48c8b75efe5f5114168a": {
     "views": [
      {
       "cell_index": 4
      }
     ]
    },
    "dcbcf83c4c32485c82f7629469ba5599": {
     "views": [
      {
       "cell_index": 4
      }
     ]
    },
    "dccd48289f8c4b1293b71c8636ee9868": {
     "views": [
      {
       "cell_index": 4
      }
     ]
    },
    "dd70b10aae6d4604ba5082d3a0878c23": {
     "views": [
      {
       "cell_index": 5
      }
     ]
    },
    "dd897452c06347a7b27c6a6ac656f552": {
     "views": [
      {
       "cell_index": 4
      }
     ]
    },
    "de6142f1bab54915ac46de9bb9c15c86": {
     "views": [
      {
       "cell_index": 5
      }
     ]
    },
    "dee7d49b83024386a06c2c97dac7ee4c": {
     "views": [
      {
       "cell_index": 5
      }
     ]
    },
    "e122163494da4ebaa43cba2082913a8c": {
     "views": [
      {
       "cell_index": 4
      }
     ]
    },
    "e169512445bb474ead658b316857bbc2": {
     "views": [
      {
       "cell_index": 5
      }
     ]
    },
    "e3c1d8fe4a224fa78f172836b7a75dfd": {
     "views": [
      {
       "cell_index": 4
      }
     ]
    },
    "e3f512eab34d4b42b60f98e95646f46b": {
     "views": [
      {
       "cell_index": 4
      }
     ]
    },
    "e4a773b02a9542b6ab363f88f16a39fb": {
     "views": [
      {
       "cell_index": 4
      }
     ]
    },
    "e4b338ddc3c94c7895569d796e120c49": {
     "views": [
      {
       "cell_index": 4
      }
     ]
    },
    "e53dc5d846e04c1bb4b64502c7269b90": {
     "views": [
      {
       "cell_index": 4
      }
     ]
    },
    "e53df96d31084f0191befc2ed607295a": {
     "views": [
      {
       "cell_index": 4
      }
     ]
    },
    "e5aa3c9f415349989548d4c1c3bd30f1": {
     "views": [
      {
       "cell_index": 4
      }
     ]
    },
    "e62b868dfb3b415db8d7c1c7a4f8c448": {
     "views": [
      {
       "cell_index": 4
      }
     ]
    },
    "e77a790d25c041539e4be9a92fe853a5": {
     "views": [
      {
       "cell_index": 4
      }
     ]
    },
    "e79043600e05472896280c962f5a33b6": {
     "views": [
      {
       "cell_index": 4
      }
     ]
    },
    "e87eb5e4b3054876b115437baad531c0": {
     "views": [
      {
       "cell_index": 4
      }
     ]
    },
    "e955925f1f124a66a5ebe39fd37d8648": {
     "views": [
      {
       "cell_index": 4
      }
     ]
    },
    "eaffec31d72e4684bf10f6e624adff3b": {
     "views": [
      {
       "cell_index": 4
      }
     ]
    },
    "eb2a6064c96249bd80620756a736892c": {
     "views": [
      {
       "cell_index": 4
      }
     ]
    },
    "eb31f7d4cee442ca82446d0106c254e9": {
     "views": [
      {
       "cell_index": 5
      }
     ]
    },
    "ebe3cd6eca794614b81d9ca5a595be35": {
     "views": [
      {
       "cell_index": 4
      }
     ]
    },
    "ed21a9a9a2744007a2b3244eaf8073f5": {
     "views": [
      {
       "cell_index": 4
      }
     ]
    },
    "eebe7e58c9134ccba5b67e50ddaa8c19": {
     "views": [
      {
       "cell_index": 4
      }
     ]
    },
    "f0b77ddd7b2343e0b8dcf5d3b6056eff": {
     "views": [
      {
       "cell_index": 4
      }
     ]
    },
    "f26d918587ea4a72be0e4735ff68a376": {
     "views": [
      {
       "cell_index": 4
      }
     ]
    },
    "f28090ee8a004fb5a9ff7f6f51036d38": {
     "views": [
      {
       "cell_index": 4
      }
     ]
    },
    "f43b8e4fc00649beb0f62aa12b676a29": {
     "views": [
      {
       "cell_index": 4
      }
     ]
    },
    "f47ed7956651411f9aebc599538ea61a": {
     "views": [
      {
       "cell_index": 4
      }
     ]
    },
    "f48aaa7070a14ccea996d4da5d1702a2": {
     "views": [
      {
       "cell_index": 4
      }
     ]
    },
    "f51eba2defca4fb1939522feac85b047": {
     "views": [
      {
       "cell_index": 4
      }
     ]
    },
    "f5b895ebf59842ed8cb3c654c56845b5": {
     "views": [
      {
       "cell_index": 4
      }
     ]
    },
    "f71a2eb017a4401296f7f3392ebd041c": {
     "views": [
      {
       "cell_index": 4
      }
     ]
    },
    "f7c4c73a28b5476e8f6e5f6baf8fda33": {
     "views": [
      {
       "cell_index": 4
      }
     ]
    },
    "f7e869ca24084a8c881b2e7d88b79e06": {
     "views": [
      {
       "cell_index": 5
      }
     ]
    },
    "fb19bed8602e40888d4f6659eb422700": {
     "views": [
      {
       "cell_index": 4
      }
     ]
    },
    "fb2bc75d23f64ff29e850b30db6e0321": {
     "views": [
      {
       "cell_index": 4
      }
     ]
    },
    "fbb7b0ff11fd4e2d8892ebad57605324": {
     "views": [
      {
       "cell_index": 4
      }
     ]
    },
    "fbc389b3db56439ab303afcb8c627d1b": {
     "views": [
      {
       "cell_index": 4
      }
     ]
    },
    "fbde0706b0f24f2c8fc1bb789e178f79": {
     "views": [
      {
       "cell_index": 4
      }
     ]
    },
    "fc1289e866c44d34a686808e746f893e": {
     "views": [
      {
       "cell_index": 4
      }
     ]
    },
    "fe85cb30d971483083f03b5c27c9f238": {
     "views": [
      {
       "cell_index": 4
      }
     ]
    },
    "ffe400aac0924a86bf7af73ca7702795": {
     "views": [
      {
       "cell_index": 5
      }
     ]
    }
   },
   "version": "1.2.0"
  }
 },
 "nbformat": 4,
 "nbformat_minor": 1
}
