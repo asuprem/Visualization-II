{
 "cells": [
  {
   "cell_type": "markdown",
   "metadata": {},
   "source": [
    "# Intro\n",
    "**ModelBuilder** builds the necessary models for each run of the visualization generators. This should be run first in the case of a new model or an addition to an existing model set. **ModelBuilder** also creates the necessary directory paths within the *model-type* defined below."
   ]
  },
  {
   "cell_type": "markdown",
   "metadata": {},
   "source": [
    "### Import\n",
    "We import the necessary modules here."
   ]
  },
  {
   "cell_type": "code",
   "execution_count": 1,
   "metadata": {
    "collapsed": false
   },
   "outputs": [
    {
     "name": "stderr",
     "output_type": "stream",
     "text": [
      "Using TensorFlow backend.\n"
     ]
    },
    {
     "name": "stdout",
     "output_type": "stream",
     "text": [
      "Couldn't import dot_parser, loading of dot files will not be possible.\n"
     ]
    }
   ],
   "source": [
    "import os, pdb, json, re, vis_utils\n",
    "# Import codes to obtain requisite commands\n",
    "from keras import callbacks\n",
    "from keras.models import Sequential, load_model, Model\n",
    "from keras.layers import Dense, Flatten, Dropout, Activation\n",
    "from keras.layers import Conv2D, MaxPooling2D, Input\n",
    "from keras.utils import np_utils, generic_utils\n",
    "from keras import backend as K"
   ]
  },
  {
   "cell_type": "markdown",
   "metadata": {},
   "source": [
    "### Load model set\n",
    "We open **models.json** and extract the model set parameters from the json, including *classes* for classification models, and *batches* + *epochs* for training methodology. We need to keep these values constant for the visualization. In the future, we may specify ranges, as well as other parameters, such as input size, output size for non-classification models, as well as possible baseline model format, if necessary"
   ]
  },
  {
   "cell_type": "code",
   "execution_count": 2,
   "metadata": {
    "collapsed": false
   },
   "outputs": [],
   "source": [
    "model_json = vis_utils.json_load('models.json')"
   ]
  },
  {
   "cell_type": "markdown",
   "metadata": {},
   "source": [
    "### <span style=\"color:orange\">Load model parameters</span> \n",
    "This is the <span style=\"coor:red\">important</span> bit that sets up the top level directories of the model. The user specifies the model set out of the following:\n",
    "1. cifar\n",
    "2. ...\n",
    "\n",
    "We plan to add more models over time. This set of cells will then set up the directory of the model"
   ]
  },
  {
   "cell_type": "code",
   "execution_count": 3,
   "metadata": {
    "collapsed": true
   },
   "outputs": [],
   "source": [
    "model_type = 'cifar'\n",
    "assert model_type in model_json\n",
    "if not os.path.exists(model_type):\n",
    "    os.makedirs(model_type)\n",
    "top_level= ['jsons','weights','max_activations','activations','tensorlogs', 'history', 'supplement']\n",
    "dir_paths = {entry+'_dir':os.path.join(model_type, entry) for entry in top_level}\n",
    "for entry in dir_paths:\n",
    "    if not os.path.exists(dir_paths[entry]):\n",
    "        os.makedirs(dir_paths[entry])"
   ]
  },
  {
   "cell_type": "markdown",
   "metadata": {},
   "source": [
    "### <span style=\"color:red\">Model Store</span>\n",
    "This function stores the models in json format, along with any supplemental material, and also Here we store the models in a json and build the requisite directory structure, if it does not exist. <span style=\"color:magenta\">**NOTE**</span> You MUST run one of the model fies below before running this. Otherwise, things go iffy as you don't actually have a model stored. This will simply abort."
   ]
  },
  {
   "cell_type": "code",
   "execution_count": 4,
   "metadata": {
    "collapsed": false
   },
   "outputs": [],
   "source": [
    "#Make sure the top level parameters *exist* and match\n",
    "def model_save(model, model_type, dir_paths, compile_data, activation_data):\n",
    "    assert model is not None\n",
    "    assert (re.match(r\"^([^_]*)_*\", model.name).group(1) == model_type)\n",
    "\n",
    "    model_j = model.to_json()\n",
    "\n",
    "    # Save the model json\n",
    "    with open(os.path.join(dir_paths['jsons_dir'],model.name+\".json\"),\"w\") as json_file:\n",
    "        json_file.write(model_j)\n",
    "    for fold in ['weights', 'max_activations', 'activations', 'tensorlogs','supplement']:\n",
    "        model_path = os.path.join(dir_paths[fold+\"_dir\"], model.name)\n",
    "        if not os.path.exists(model_path):\n",
    "            os.makedirs(model_path)\n",
    "    supplement_dir = os.path.join(dir_paths['supplement_dir'], model.name)\n",
    "    with open(os.path.join(supplement_dir, 'compile.json'), 'w') as _compile:\n",
    "        json.dump(compile_data, _compile)\n",
    "    with open(os.path.join(supplement_dir, 'activation.json'), 'w') as _activation:\n",
    "        json.dump(activation_data, _activation)"
   ]
  },
  {
   "cell_type": "markdown",
   "metadata": {},
   "source": [
    "# Models:\n",
    "Each of the following sections builds a model. Run them before running the above cell (**Model Store**). Run one, then run the above cell to store the model file, then the model director structure."
   ]
  },
  {
   "cell_type": "markdown",
   "metadata": {},
   "source": [
    "## Model 1 - CIFAR - 1"
   ]
  },
  {
   "cell_type": "code",
   "execution_count": 5,
   "metadata": {
    "collapsed": false
   },
   "outputs": [
    {
     "name": "stdout",
     "output_type": "stream",
     "text": [
      "_________________________________________________________________\n",
      "Layer (type)                 Output Shape              Param #   \n",
      "=================================================================\n",
      "i_layer (InputLayer)         (None, 32, 32, 3)         0         \n",
      "_________________________________________________________________\n",
      "conv_1 (Conv2D)              (None, 32, 32, 32)        896       \n",
      "_________________________________________________________________\n",
      "drop_1 (Dropout)             (None, 32, 32, 32)        0         \n",
      "_________________________________________________________________\n",
      "conv_2 (Conv2D)              (None, 32, 32, 32)        9248      \n",
      "_________________________________________________________________\n",
      "pool_1 (MaxPooling2D)        (None, 16, 16, 32)        0         \n",
      "_________________________________________________________________\n",
      "conv_3 (Conv2D)              (None, 16, 16, 64)        18496     \n",
      "_________________________________________________________________\n",
      "drop_2 (Dropout)             (None, 16, 16, 64)        0         \n",
      "_________________________________________________________________\n",
      "conv_4 (Conv2D)              (None, 16, 16, 64)        36928     \n",
      "_________________________________________________________________\n",
      "pool_2 (MaxPooling2D)        (None, 8, 8, 64)          0         \n",
      "_________________________________________________________________\n",
      "conv_5 (Conv2D)              (None, 8, 8, 128)         73856     \n",
      "_________________________________________________________________\n",
      "drop_3 (Dropout)             (None, 8, 8, 128)         0         \n",
      "_________________________________________________________________\n",
      "conv_6 (Conv2D)              (None, 8, 8, 128)         147584    \n",
      "_________________________________________________________________\n",
      "pool_3 (MaxPooling2D)        (None, 4, 4, 128)         0         \n",
      "_________________________________________________________________\n",
      "flatten_1 (Flatten)          (None, 2048)              0         \n",
      "_________________________________________________________________\n",
      "drop_4 (Dropout)             (None, 2048)              0         \n",
      "_________________________________________________________________\n",
      "dense_1 (Dense)              (None, 1024)              2098176   \n",
      "_________________________________________________________________\n",
      "drop_5 (Dropout)             (None, 1024)              0         \n",
      "_________________________________________________________________\n",
      "dense_2 (Dense)              (None, 512)               524800    \n",
      "_________________________________________________________________\n",
      "drop_6 (Dropout)             (None, 512)               0         \n",
      "_________________________________________________________________\n",
      "dense_3 (Dense)              (None, 10)                5130      \n",
      "=================================================================\n",
      "Total params: 2,915,114\n",
      "Trainable params: 2,915,114\n",
      "Non-trainable params: 0\n",
      "_________________________________________________________________\n",
      "None\n"
     ]
    }
   ],
   "source": [
    "i_layer = Input((model_json[model_type]['size']['width'],model_json[model_type]['size']['height'],3),name='i_layer')\n",
    "\n",
    "conv_1 = Conv2D(32,(3,3), strides=1,padding='same', activation='relu', name='conv_1')(i_layer)\n",
    "drop_1 = Dropout(0.2, name='drop_1')(conv_1)\n",
    "conv_2 = Conv2D(32,(3,3),padding='same', activation='relu', name='conv_2')(drop_1)\n",
    "pool_1 = MaxPooling2D(pool_size=(2,2), name='pool_1')(conv_2)\n",
    "\n",
    "conv_3 = Conv2D(64,(3,3),padding='same', activation='relu', name='conv_3')(pool_1)\n",
    "drop_2 = Dropout(0.2, name='drop_2')(conv_3)\n",
    "conv_4 = Conv2D(64,(3,3),padding='same', activation='relu', name='conv_4')(drop_2)\n",
    "pool_2 = MaxPooling2D(pool_size=(2,2), name='pool_2')(conv_4)\n",
    "\n",
    "conv_5 = Conv2D(128,(3,3),padding='same', activation='relu', name='conv_5')(pool_2)\n",
    "drop_3 = Dropout(0.2, name='drop_3')(conv_5)\n",
    "conv_6 = Conv2D(128,(3,3),padding='same', activation='relu', name='conv_6')(drop_3)\n",
    "pool_3 = MaxPooling2D(pool_size=(2,2), name='pool_3')(conv_6)\n",
    "\n",
    "flatten_1 = Flatten(name='flatten_1')(pool_3)\n",
    "drop_4 = Dropout(0.2,name='drop_4')(flatten_1)\n",
    "dense_1 = Dense(1024,activation='relu',name='dense_1')(drop_4)\n",
    "drop_5 = Dropout(0.2,name='drop_5')(dense_1)\n",
    "dense_2 = Dense(512,activation='relu',name='dense_2')(drop_5)\n",
    "drop_6 = Dropout(0.2,name='drop_6')(dense_2)\n",
    "dense_3 = Dense(model_json[model_type]['classes'], activation='softmax', name='dense_3')(drop_6)\n",
    "\n",
    "model = Model(inputs=i_layer, outputs=dense_3)\n",
    "model.name = 'cifar_1'\n",
    "compile_data = {'loss':'categorical_crossentropy', 'optimizer':'adam', 'metrics':['accuracy']}\n",
    "model.compile(loss=compile_data['loss'], optimizer=compile_data['optimizer'], metrics=compile_data['metrics'])\n",
    "activation_data = {'snip':'yes', 'snip_layer':['flatten_1']}\n",
    "print(model.summary())\n",
    "model_save(model, model_type, dir_paths, compile_data, activation_data)"
   ]
  },
  {
   "cell_type": "markdown",
   "metadata": {},
   "source": [
    "## Model 1 - CIFAR - 2"
   ]
  },
  {
   "cell_type": "code",
   "execution_count": 6,
   "metadata": {
    "collapsed": false
   },
   "outputs": [
    {
     "name": "stdout",
     "output_type": "stream",
     "text": [
      "_________________________________________________________________\n",
      "Layer (type)                 Output Shape              Param #   \n",
      "=================================================================\n",
      "i_layer (InputLayer)         (None, 32, 32, 3)         0         \n",
      "_________________________________________________________________\n",
      "conv_1 (Conv2D)              (None, 32, 32, 64)        1792      \n",
      "_________________________________________________________________\n",
      "drop_1 (Dropout)             (None, 32, 32, 64)        0         \n",
      "_________________________________________________________________\n",
      "conv_2 (Conv2D)              (None, 32, 32, 64)        36928     \n",
      "_________________________________________________________________\n",
      "pool_1 (MaxPooling2D)        (None, 16, 16, 64)        0         \n",
      "_________________________________________________________________\n",
      "conv_3 (Conv2D)              (None, 16, 16, 128)       73856     \n",
      "_________________________________________________________________\n",
      "drop_2 (Dropout)             (None, 16, 16, 128)       0         \n",
      "_________________________________________________________________\n",
      "conv_4 (Conv2D)              (None, 16, 16, 128)       147584    \n",
      "_________________________________________________________________\n",
      "pool_2 (MaxPooling2D)        (None, 8, 8, 128)         0         \n",
      "_________________________________________________________________\n",
      "conv_5 (Conv2D)              (None, 8, 8, 256)         295168    \n",
      "_________________________________________________________________\n",
      "drop_3 (Dropout)             (None, 8, 8, 256)         0         \n",
      "_________________________________________________________________\n",
      "conv_6 (Conv2D)              (None, 8, 8, 256)         590080    \n",
      "_________________________________________________________________\n",
      "pool_3 (MaxPooling2D)        (None, 4, 4, 256)         0         \n",
      "_________________________________________________________________\n",
      "flatten_1 (Flatten)          (None, 4096)              0         \n",
      "_________________________________________________________________\n",
      "drop_4 (Dropout)             (None, 4096)              0         \n",
      "_________________________________________________________________\n",
      "dense_1 (Dense)              (None, 1024)              4195328   \n",
      "_________________________________________________________________\n",
      "drop_5 (Dropout)             (None, 1024)              0         \n",
      "_________________________________________________________________\n",
      "dense_2 (Dense)              (None, 512)               524800    \n",
      "_________________________________________________________________\n",
      "drop_6 (Dropout)             (None, 512)               0         \n",
      "_________________________________________________________________\n",
      "dense_3 (Dense)              (None, 10)                5130      \n",
      "=================================================================\n",
      "Total params: 5,870,666\n",
      "Trainable params: 5,870,666\n",
      "Non-trainable params: 0\n",
      "_________________________________________________________________\n",
      "None\n"
     ]
    }
   ],
   "source": [
    "i_layer = Input((model_json[model_type]['size']['width'],model_json[model_type]['size']['height'],3),name='i_layer')\n",
    "\n",
    "conv_1 = Conv2D(64,(3,3), strides=1,padding='same', activation='relu', name='conv_1')(i_layer)\n",
    "drop_1 = Dropout(0.2, name='drop_1')(conv_1)\n",
    "conv_2 = Conv2D(64,(3,3),padding='same', activation='relu', name='conv_2')(drop_1)\n",
    "pool_1 = MaxPooling2D(pool_size=(2,2), name='pool_1')(conv_2)\n",
    "\n",
    "conv_3 = Conv2D(128,(3,3),padding='same', activation='relu', name='conv_3')(pool_1)\n",
    "drop_2 = Dropout(0.2, name='drop_2')(conv_3)\n",
    "conv_4 = Conv2D(128,(3,3),padding='same', activation='relu', name='conv_4')(drop_2)\n",
    "pool_2 = MaxPooling2D(pool_size=(2,2), name='pool_2')(conv_4)\n",
    "\n",
    "conv_5 = Conv2D(256,(3,3),padding='same', activation='relu', name='conv_5')(pool_2)\n",
    "drop_3 = Dropout(0.2, name='drop_3')(conv_5)\n",
    "conv_6 = Conv2D(256,(3,3),padding='same', activation='relu', name='conv_6')(drop_3)\n",
    "pool_3 = MaxPooling2D(pool_size=(2,2), name='pool_3')(conv_6)\n",
    "\n",
    "flatten_1 = Flatten(name='flatten_1')(pool_3)\n",
    "drop_4 = Dropout(0.2,name='drop_4')(flatten_1)\n",
    "dense_1 = Dense(1024,activation='relu',name='dense_1')(drop_4)\n",
    "drop_5 = Dropout(0.2,name='drop_5')(dense_1)\n",
    "dense_2 = Dense(512,activation='relu',name='dense_2')(drop_5)\n",
    "drop_6 = Dropout(0.2,name='drop_6')(dense_2)\n",
    "dense_3 = Dense(model_json[model_type]['classes'], activation='softmax', name='dense_3')(drop_6)\n",
    "\n",
    "model = Model(inputs=i_layer, outputs=dense_3)\n",
    "model.name = 'cifar_2'\n",
    "compile_data = {'loss':'categorical_crossentropy', 'optimizer':'adam', 'metrics':['accuracy']}\n",
    "model.compile(loss=compile_data['loss'], optimizer=compile_data['optimizer'], metrics=compile_data['metrics'])\n",
    "activation_data = {'snip':'yes', 'snip_layer':['flatten_1']}\n",
    "print(model.summary())\n",
    "model_save(model, model_type, dir_paths, compile_data, activation_data)"
   ]
  },
  {
   "cell_type": "markdown",
   "metadata": {},
   "source": [
    "## Model 1 - CIFAR - 3"
   ]
  },
  {
   "cell_type": "code",
   "execution_count": 7,
   "metadata": {
    "collapsed": false
   },
   "outputs": [
    {
     "name": "stdout",
     "output_type": "stream",
     "text": [
      "_________________________________________________________________\n",
      "Layer (type)                 Output Shape              Param #   \n",
      "=================================================================\n",
      "i_layer (InputLayer)         (None, 32, 32, 3)         0         \n",
      "_________________________________________________________________\n",
      "conv_1 (Conv2D)              (None, 32, 32, 32)        896       \n",
      "_________________________________________________________________\n",
      "conv_2 (Conv2D)              (None, 32, 32, 32)        9248      \n",
      "_________________________________________________________________\n",
      "pool_1 (MaxPooling2D)        (None, 16, 16, 32)        0         \n",
      "_________________________________________________________________\n",
      "conv_3 (Conv2D)              (None, 16, 16, 64)        51264     \n",
      "_________________________________________________________________\n",
      "conv_4 (Conv2D)              (None, 16, 16, 64)        102464    \n",
      "_________________________________________________________________\n",
      "pool_2 (MaxPooling2D)        (None, 8, 8, 64)          0         \n",
      "_________________________________________________________________\n",
      "conv_5 (Conv2D)              (None, 8, 8, 128)         401536    \n",
      "_________________________________________________________________\n",
      "conv_6 (Conv2D)              (None, 8, 8, 128)         802944    \n",
      "_________________________________________________________________\n",
      "pool_3 (MaxPooling2D)        (None, 4, 4, 128)         0         \n",
      "_________________________________________________________________\n",
      "flatten_1 (Flatten)          (None, 2048)              0         \n",
      "_________________________________________________________________\n",
      "drop_4 (Dropout)             (None, 2048)              0         \n",
      "_________________________________________________________________\n",
      "dense_1 (Dense)              (None, 1024)              2098176   \n",
      "_________________________________________________________________\n",
      "drop_5 (Dropout)             (None, 1024)              0         \n",
      "_________________________________________________________________\n",
      "dense_2 (Dense)              (None, 512)               524800    \n",
      "_________________________________________________________________\n",
      "drop_6 (Dropout)             (None, 512)               0         \n",
      "_________________________________________________________________\n",
      "dense_3 (Dense)              (None, 10)                5130      \n",
      "=================================================================\n",
      "Total params: 3,996,458\n",
      "Trainable params: 3,996,458\n",
      "Non-trainable params: 0\n",
      "_________________________________________________________________\n",
      "None\n"
     ]
    }
   ],
   "source": [
    "i_layer = Input((model_json[model_type]['size']['width'],model_json[model_type]['size']['height'],3),name='i_layer')\n",
    "\n",
    "conv_1 = Conv2D(32,(3,3), strides=1,padding='same', activation='relu', name='conv_1')(i_layer)\n",
    "conv_2 = Conv2D(32,(3,3),padding='same', activation='relu', name='conv_2')(conv_1)\n",
    "pool_1 = MaxPooling2D(pool_size=(2,2), name='pool_1')(conv_2)\n",
    "\n",
    "conv_3 = Conv2D(64,(5,5),padding='same', activation='relu', name='conv_3')(pool_1)\n",
    "conv_4 = Conv2D(64,(5,5),padding='same', activation='relu', name='conv_4')(conv_3)\n",
    "pool_2 = MaxPooling2D(pool_size=(2,2), name='pool_2')(conv_4)\n",
    "\n",
    "conv_5 = Conv2D(128,(7,7),padding='same', activation='relu', name='conv_5')(pool_2)\n",
    "conv_6 = Conv2D(128,(7,7),padding='same', activation='relu', name='conv_6')(conv_5)\n",
    "pool_3 = MaxPooling2D(pool_size=(2,2), name='pool_3')(conv_6)\n",
    "\n",
    "flatten_1 = Flatten(name='flatten_1')(pool_3)\n",
    "drop_4 = Dropout(0.2,name='drop_4')(flatten_1)\n",
    "dense_1 = Dense(1024,activation='relu',name='dense_1')(drop_4)\n",
    "drop_5 = Dropout(0.2,name='drop_5')(dense_1)\n",
    "dense_2 = Dense(512,activation='relu',name='dense_2')(drop_5)\n",
    "drop_6 = Dropout(0.2,name='drop_6')(dense_2)\n",
    "dense_3 = Dense(model_json[model_type]['classes'], activation='softmax', name='dense_3')(drop_6)\n",
    "\n",
    "model = Model(inputs=i_layer, outputs=dense_3)\n",
    "model.name = 'cifar_3'\n",
    "compile_data = {'loss':'categorical_crossentropy', 'optimizer':'adam', 'metrics':['accuracy']}\n",
    "model.compile(loss=compile_data['loss'], optimizer=compile_data['optimizer'], metrics=compile_data['metrics'])\n",
    "activation_data = {'snip':'yes', 'snip_layer':['flatten_1']}\n",
    "\n",
    "print(model.summary())\n",
    "model_save(model, model_type, dir_paths, compile_data, activation_data)"
   ]
  },
  {
   "cell_type": "markdown",
   "metadata": {},
   "source": [
    "## Model 1 - CIFAR - 4"
   ]
  },
  {
   "cell_type": "code",
   "execution_count": 8,
   "metadata": {
    "collapsed": false
   },
   "outputs": [
    {
     "name": "stdout",
     "output_type": "stream",
     "text": [
      "_________________________________________________________________\n",
      "Layer (type)                 Output Shape              Param #   \n",
      "=================================================================\n",
      "i_layer (InputLayer)         (None, 32, 32, 3)         0         \n",
      "_________________________________________________________________\n",
      "conv_1 (Conv2D)              (None, 32, 32, 32)        4736      \n",
      "_________________________________________________________________\n",
      "conv_2 (Conv2D)              (None, 32, 32, 32)        50208     \n",
      "_________________________________________________________________\n",
      "pool_1 (MaxPooling2D)        (None, 16, 16, 32)        0         \n",
      "_________________________________________________________________\n",
      "conv_3 (Conv2D)              (None, 16, 16, 64)        51264     \n",
      "_________________________________________________________________\n",
      "conv_4 (Conv2D)              (None, 16, 16, 64)        102464    \n",
      "_________________________________________________________________\n",
      "pool_2 (MaxPooling2D)        (None, 8, 8, 64)          0         \n",
      "_________________________________________________________________\n",
      "conv_5 (Conv2D)              (None, 8, 8, 128)         73856     \n",
      "_________________________________________________________________\n",
      "conv_6 (Conv2D)              (None, 8, 8, 128)         147584    \n",
      "_________________________________________________________________\n",
      "pool_3 (MaxPooling2D)        (None, 4, 4, 128)         0         \n",
      "_________________________________________________________________\n",
      "flatten_1 (Flatten)          (None, 2048)              0         \n",
      "_________________________________________________________________\n",
      "drop_4 (Dropout)             (None, 2048)              0         \n",
      "_________________________________________________________________\n",
      "dense_1 (Dense)              (None, 1024)              2098176   \n",
      "_________________________________________________________________\n",
      "drop_5 (Dropout)             (None, 1024)              0         \n",
      "_________________________________________________________________\n",
      "dense_2 (Dense)              (None, 512)               524800    \n",
      "_________________________________________________________________\n",
      "drop_6 (Dropout)             (None, 512)               0         \n",
      "_________________________________________________________________\n",
      "dense_3 (Dense)              (None, 10)                5130      \n",
      "=================================================================\n",
      "Total params: 3,058,218\n",
      "Trainable params: 3,058,218\n",
      "Non-trainable params: 0\n",
      "_________________________________________________________________\n",
      "None\n"
     ]
    }
   ],
   "source": [
    "i_layer = Input((model_json[model_type]['size']['width'],model_json[model_type]['size']['height'],3),name='i_layer')\n",
    "\n",
    "conv_1 = Conv2D(32,(7,7), strides=1,padding='same', activation='relu', name='conv_1')(i_layer)\n",
    "conv_2 = Conv2D(32,(7,7),padding='same', activation='relu', name='conv_2')(conv_1)\n",
    "pool_1 = MaxPooling2D(pool_size=(2,2), name='pool_1')(conv_2)\n",
    "\n",
    "conv_3 = Conv2D(64,(5,5),padding='same', activation='relu', name='conv_3')(pool_1)\n",
    "conv_4 = Conv2D(64,(5,5),padding='same', activation='relu', name='conv_4')(conv_3)\n",
    "pool_2 = MaxPooling2D(pool_size=(2,2), name='pool_2')(conv_4)\n",
    "\n",
    "conv_5 = Conv2D(128,(3,3),padding='same', activation='relu', name='conv_5')(pool_2)\n",
    "conv_6 = Conv2D(128,(3,3),padding='same', activation='relu', name='conv_6')(conv_5)\n",
    "pool_3 = MaxPooling2D(pool_size=(2,2), name='pool_3')(conv_6)\n",
    "\n",
    "flatten_1 = Flatten(name='flatten_1')(pool_3)\n",
    "drop_4 = Dropout(0.2,name='drop_4')(flatten_1)\n",
    "dense_1 = Dense(1024,activation='relu',name='dense_1')(drop_4)\n",
    "drop_5 = Dropout(0.2,name='drop_5')(dense_1)\n",
    "dense_2 = Dense(512,activation='relu',name='dense_2')(drop_5)\n",
    "drop_6 = Dropout(0.2,name='drop_6')(dense_2)\n",
    "dense_3 = Dense(model_json[model_type]['classes'], activation='softmax', name='dense_3')(drop_6)\n",
    "\n",
    "model = Model(inputs=i_layer, outputs=dense_3)\n",
    "model.name = 'cifar_4'\n",
    "compile_data = {'loss':'categorical_crossentropy', 'optimizer':'adam', 'metrics':['accuracy']}\n",
    "model.compile(loss=compile_data['loss'], optimizer=compile_data['optimizer'], metrics=compile_data['metrics'])\n",
    "activation_data = {'snip':'yes', 'snip_layer':['flatten_1']}\n",
    "\n",
    "print(model.summary())\n",
    "model_save(model, model_type, dir_paths, compile_data, activation_data)"
   ]
  },
  {
   "cell_type": "markdown",
   "metadata": {},
   "source": [
    "# Model - 1 - CIFAR 5"
   ]
  },
  {
   "cell_type": "code",
   "execution_count": 9,
   "metadata": {
    "collapsed": false
   },
   "outputs": [
    {
     "name": "stdout",
     "output_type": "stream",
     "text": [
      "_________________________________________________________________\n",
      "Layer (type)                 Output Shape              Param #   \n",
      "=================================================================\n",
      "i_layer (InputLayer)         (None, 32, 32, 3)         0         \n",
      "_________________________________________________________________\n",
      "conv_1 (Conv2D)              (None, 32, 32, 32)        896       \n",
      "_________________________________________________________________\n",
      "drop_1 (Dropout)             (None, 32, 32, 32)        0         \n",
      "_________________________________________________________________\n",
      "conv_2 (Conv2D)              (None, 32, 32, 64)        18496     \n",
      "_________________________________________________________________\n",
      "pool_1 (MaxPooling2D)        (None, 16, 16, 64)        0         \n",
      "_________________________________________________________________\n",
      "conv_3 (Conv2D)              (None, 16, 16, 64)        36928     \n",
      "_________________________________________________________________\n",
      "drop_2 (Dropout)             (None, 16, 16, 64)        0         \n",
      "_________________________________________________________________\n",
      "conv_4 (Conv2D)              (None, 16, 16, 128)       73856     \n",
      "_________________________________________________________________\n",
      "pool_2 (MaxPooling2D)        (None, 8, 8, 128)         0         \n",
      "_________________________________________________________________\n",
      "conv_5 (Conv2D)              (None, 8, 8, 128)         147584    \n",
      "_________________________________________________________________\n",
      "drop_3 (Dropout)             (None, 8, 8, 128)         0         \n",
      "_________________________________________________________________\n",
      "conv_6 (Conv2D)              (None, 8, 8, 256)         295168    \n",
      "_________________________________________________________________\n",
      "pool_3 (MaxPooling2D)        (None, 4, 4, 256)         0         \n",
      "_________________________________________________________________\n",
      "flatten_1 (Flatten)          (None, 4096)              0         \n",
      "_________________________________________________________________\n",
      "drop_4 (Dropout)             (None, 4096)              0         \n",
      "_________________________________________________________________\n",
      "dense_1 (Dense)              (None, 1024)              4195328   \n",
      "_________________________________________________________________\n",
      "drop_5 (Dropout)             (None, 1024)              0         \n",
      "_________________________________________________________________\n",
      "dense_2 (Dense)              (None, 512)               524800    \n",
      "_________________________________________________________________\n",
      "drop_6 (Dropout)             (None, 512)               0         \n",
      "_________________________________________________________________\n",
      "dense_3 (Dense)              (None, 10)                5130      \n",
      "=================================================================\n",
      "Total params: 5,298,186\n",
      "Trainable params: 5,298,186\n",
      "Non-trainable params: 0\n",
      "_________________________________________________________________\n",
      "None\n"
     ]
    }
   ],
   "source": [
    "i_layer = Input((model_json[model_type]['size']['width'],model_json[model_type]['size']['height'],3), name='i_layer')\n",
    "\n",
    "conv_1 = Conv2D(32,(3,3), strides=1,padding='same', activation='relu', name='conv_1')(i_layer)\n",
    "drop_1 = Dropout(0.2, name='drop_1')(conv_1)\n",
    "conv_2 = Conv2D(64,(3,3),padding='same', activation='relu', name='conv_2')(drop_1)\n",
    "pool_1 = MaxPooling2D(pool_size=(2,2), name='pool_1')(conv_2)\n",
    "\n",
    "conv_3 = Conv2D(64,(3,3),padding='same', activation='relu', name='conv_3')(pool_1)\n",
    "drop_2 = Dropout(0.2, name='drop_2')(conv_3)\n",
    "conv_4 = Conv2D(128,(3,3),padding='same', activation='relu', name='conv_4')(drop_2)\n",
    "pool_2 = MaxPooling2D(pool_size=(2,2), name='pool_2')(conv_4)\n",
    "\n",
    "conv_5 = Conv2D(128,(3,3),padding='same', activation='relu', name='conv_5')(pool_2)\n",
    "drop_3 = Dropout(0.2, name='drop_3')(conv_5)\n",
    "conv_6 = Conv2D(256,(3,3),padding='same', activation='relu', name='conv_6')(drop_3)\n",
    "pool_3 = MaxPooling2D(pool_size=(2,2), name='pool_3')(conv_6)\n",
    "\n",
    "flatten_1 = Flatten(name='flatten_1')(pool_3)\n",
    "drop_4 = Dropout(0.2,name='drop_4')(flatten_1)\n",
    "dense_1 = Dense(1024,activation='relu',name='dense_1')(drop_4)\n",
    "drop_5 = Dropout(0.2,name='drop_5')(dense_1)\n",
    "dense_2 = Dense(512,activation='relu',name='dense_2')(drop_5)\n",
    "drop_6 = Dropout(0.2,name='drop_6')(dense_2)\n",
    "dense_3 = Dense(model_json[model_type]['classes'], activation='softmax', name='dense_3')(drop_6)\n",
    "\n",
    "model = Model(inputs=i_layer, outputs=dense_3)\n",
    "model.name = 'cifar_5'\n",
    "compile_data = {'loss':'categorical_crossentropy', 'optimizer':'adam', 'metrics':['accuracy']}\n",
    "model.compile(loss=compile_data['loss'], optimizer=compile_data['optimizer'], metrics=compile_data['metrics'])\n",
    "activation_data = {'snip':'yes', 'snip_layer':['flatten_1']}\n",
    "\n",
    "print(model.summary())\n",
    "model_save(model, model_type, dir_paths, compile_data, activation_data)"
   ]
  },
  {
   "cell_type": "markdown",
   "metadata": {},
   "source": [
    "# Model 1 - CIFAR 6"
   ]
  },
  {
   "cell_type": "code",
   "execution_count": 10,
   "metadata": {
    "collapsed": false
   },
   "outputs": [
    {
     "name": "stdout",
     "output_type": "stream",
     "text": [
      "_________________________________________________________________\n",
      "Layer (type)                 Output Shape              Param #   \n",
      "=================================================================\n",
      "i_layer (InputLayer)         (None, 32, 32, 3)         0         \n",
      "_________________________________________________________________\n",
      "conv_1 (Conv2D)              (None, 32, 32, 32)        896       \n",
      "_________________________________________________________________\n",
      "conv_2 (Conv2D)              (None, 32, 32, 32)        9248      \n",
      "_________________________________________________________________\n",
      "conv_3 (Conv2D)              (None, 32, 32, 32)        9248      \n",
      "_________________________________________________________________\n",
      "conv_4 (Conv2D)              (None, 32, 32, 32)        9248      \n",
      "_________________________________________________________________\n",
      "pool_1 (MaxPooling2D)        (None, 16, 16, 32)        0         \n",
      "_________________________________________________________________\n",
      "conv_5 (Conv2D)              (None, 16, 16, 32)        9248      \n",
      "_________________________________________________________________\n",
      "conv_6 (Conv2D)              (None, 16, 16, 32)        9248      \n",
      "_________________________________________________________________\n",
      "conv_7 (Conv2D)              (None, 16, 16, 32)        9248      \n",
      "_________________________________________________________________\n",
      "conv_8 (Conv2D)              (None, 16, 16, 32)        9248      \n",
      "_________________________________________________________________\n",
      "conv_9 (Conv2D)              (None, 16, 16, 32)        9248      \n",
      "_________________________________________________________________\n",
      "conv_10 (Conv2D)             (None, 16, 16, 32)        9248      \n",
      "_________________________________________________________________\n",
      "flatten_1 (Flatten)          (None, 8192)              0         \n",
      "_________________________________________________________________\n",
      "drop_4 (Dropout)             (None, 8192)              0         \n",
      "_________________________________________________________________\n",
      "dense_1 (Dense)              (None, 1024)              8389632   \n",
      "_________________________________________________________________\n",
      "drop_5 (Dropout)             (None, 1024)              0         \n",
      "_________________________________________________________________\n",
      "dense_2 (Dense)              (None, 512)               524800    \n",
      "_________________________________________________________________\n",
      "drop_6 (Dropout)             (None, 512)               0         \n",
      "_________________________________________________________________\n",
      "dense_3 (Dense)              (None, 10)                5130      \n",
      "=================================================================\n",
      "Total params: 9,003,690\n",
      "Trainable params: 9,003,690\n",
      "Non-trainable params: 0\n",
      "_________________________________________________________________\n",
      "None\n"
     ]
    }
   ],
   "source": [
    "i_layer = Input((model_json[model_type]['size']['width'],model_json[model_type]['size']['height'],3), name='i_layer')\n",
    "\n",
    "conv_1 = Conv2D(32,(3,3), strides=1,padding='same', activation='relu', name='conv_1')(i_layer)\n",
    "conv_2 = Conv2D(32,(3,3),padding='same',strides=1,  activation='relu', name='conv_2')(conv_1)\n",
    "conv_3 = Conv2D(32,(3,3), strides=1,padding='same', activation='relu', name='conv_3')(conv_2)\n",
    "conv_4 = Conv2D(32,(3,3),padding='same', strides=1, activation='relu', name='conv_4')(conv_3)\n",
    "pool_1 = MaxPooling2D(pool_size=(2,2), name='pool_1')(conv_4)\n",
    "\n",
    "conv_5 = Conv2D(32,(3,3), strides=1,padding='same', activation='relu', name='conv_5')(pool_1)\n",
    "conv_6 = Conv2D(32,(3,3),padding='same', strides=1, activation='relu', name='conv_6')(conv_5)\n",
    "conv_7 = Conv2D(32,(3,3), strides=1,padding='same', activation='relu', name='conv_7')(conv_6)\n",
    "conv_8 = Conv2D(32,(3,3),padding='same', strides=1, activation='relu', name='conv_8')(conv_7)\n",
    "conv_9 = Conv2D(32,(3,3), strides=1,padding='same', activation='relu', name='conv_9')(conv_8)\n",
    "conv_10 = Conv2D(32,(3,3),padding='same', strides=1, activation='relu', name='conv_10')(conv_9)\n",
    "#pool_2 = MaxPooling2D(pool_size=(2,2), name='pool_2')(conv_10)\n",
    "\n",
    "#conv_11 = Conv2D(32,(3,3), strides=1,padding='same', activation='relu', name='conv_11')(conv_10)\n",
    "#conv_12 = Conv2D(32,(3,3),padding='same', strides=1, activation='relu', name='conv_12')(conv_11)\n",
    "#conv_13 = Conv2D(32,(3,3), strides=1,padding='same', activation='relu', name='conv_13')(conv_12)\n",
    "#conv_14 = Conv2D(32,(3,3),padding='same', strides=1, activation='relu', name='conv_14')(conv_13)\n",
    "#conv_15 = Conv2D(32,(3,3), strides=1,padding='same', activation='relu', name='conv_15')(conv_14)\n",
    "#conv_16 = Conv2D(32,(3,3),padding='same', strides=1, activation='relu', name='conv_16')(conv_15)\n",
    "#conv_17 = Conv2D(32,(3,3), strides=1,padding='same', activation='relu', name='conv_17')(conv_16)\n",
    "#conv_18 = Conv2D(32,(3,3),padding='same', strides=1, activation='relu', name='conv_18')(conv_17)\n",
    "#pool_3 = MaxPooling2D(pool_size=(2,2), name='pool_3')(conv_18)\n",
    "\n",
    "flatten_1 = Flatten(name='flatten_1')(conv_10)\n",
    "drop_4 = Dropout(0.2,name='drop_4')(flatten_1)\n",
    "dense_1 = Dense(1024,activation='relu',name='dense_1')(drop_4)\n",
    "drop_5 = Dropout(0.2,name='drop_5')(dense_1)\n",
    "dense_2 = Dense(512,activation='relu',name='dense_2')(drop_5)\n",
    "drop_6 = Dropout(0.2,name='drop_6')(dense_2)\n",
    "dense_3 = Dense(model_json[model_type]['classes'], activation='softmax', name='dense_3')(drop_6)\n",
    "\n",
    "model = Model(inputs=i_layer, outputs=dense_3)\n",
    "model.name = 'cifar_6'\n",
    "compile_data = {'loss':'categorical_crossentropy', 'optimizer':'adam', 'metrics':['accuracy']}\n",
    "model.compile(loss=compile_data['loss'], optimizer=compile_data['optimizer'], metrics=compile_data['metrics'])\n",
    "activation_data = {'snip':'yes', 'snip_layer':['flatten_1']}\n",
    "\n",
    "print(model.summary())\n",
    "model_save(model, model_type, dir_paths, compile_data, activation_data)"
   ]
  },
  {
   "cell_type": "code",
   "execution_count": null,
   "metadata": {
    "collapsed": true
   },
   "outputs": [],
   "source": []
  }
 ],
 "metadata": {
  "anaconda-cloud": {},
  "kernelspec": {
   "display_name": "Python [conda root]",
   "language": "python",
   "name": "conda-root-py"
  },
  "language_info": {
   "codemirror_mode": {
    "name": "ipython",
    "version": 2
   },
   "file_extension": ".py",
   "mimetype": "text/x-python",
   "name": "python",
   "nbconvert_exporter": "python",
   "pygments_lexer": "ipython2",
   "version": "2.7.12"
  }
 },
 "nbformat": 4,
 "nbformat_minor": 1
}
